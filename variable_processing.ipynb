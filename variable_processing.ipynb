{
 "cells": [
  {
   "cell_type": "code",
   "execution_count": 57,
   "id": "ace45d00-0632-4d7e-b090-d9882cc2718a",
   "metadata": {},
   "outputs": [],
   "source": [
    "import pandas as pd\n",
    "import numpy as np\n",
    "from statsmodels.stats.outliers_influence import variance_inflation_factor\n",
    "from statsmodels.tools.tools import add_constant\n",
    "import statsmodels.api as sm\n",
    "from sklearn.preprocessing import StandardScaler"
   ]
  },
  {
   "cell_type": "markdown",
   "id": "e556bdd9-3922-4ead-96b1-33a2091f4684",
   "metadata": {},
   "source": [
    "# 1.Built Environment Variables"
   ]
  },
  {
   "cell_type": "markdown",
   "id": "1b87bf6c-a23b-4333-8e20-d0783a81442a",
   "metadata": {},
   "source": [
    "## 1.1 POI entropy culculaion"
   ]
  },
  {
   "cell_type": "code",
   "execution_count": 61,
   "id": "d0e0db98-4e79-4038-a3cb-e8d563d0c945",
   "metadata": {},
   "outputs": [
    {
     "name": "stdout",
     "output_type": "stream",
     "text": [
      "Processing edu (深圳市_科研教育.shp)\n",
      "POI Data CRS: EPSG:4326\n",
      "Fishnet Data CRS: EPSG:4326\n",
      "Number of POI points: 6244\n",
      "Number of joined records: 6244\n",
      "Processing pbs (深圳市_居委会点.shp)\n",
      "POI Data CRS: EPSG:4326\n",
      "Fishnet Data CRS: EPSG:4326\n",
      "Number of POI points: 629\n",
      "Number of joined records: 629\n",
      "Processing resid (深圳市_居民小区点.shp)\n",
      "POI Data CRS: EPSG:4326\n",
      "Fishnet Data CRS: EPSG:4326\n",
      "Number of POI points: 7311\n",
      "Number of joined records: 7311\n",
      "Processing comm (深圳市_金融服务.shp)\n",
      "POI Data CRS: EPSG:4326\n",
      "Fishnet Data CRS: EPSG:4326\n",
      "Number of POI points: 7072\n",
      "Number of joined records: 7072\n",
      "Processing shop (深圳市_购物.shp)\n",
      "POI Data CRS: EPSG:4326\n",
      "Fishnet Data CRS: EPSG:4326\n",
      "Number of POI points: 71040\n",
      "Number of joined records: 71040\n",
      "Processing work (深圳市-写字楼.shp)\n",
      "POI Data CRS: EPSG:4326\n",
      "Fishnet Data CRS: EPSG:4326\n",
      "Number of POI points: 1028\n",
      "Number of joined records: 1028\n",
      "Processing govern (深圳市_政府机关.shp)\n",
      "POI Data CRS: EPSG:4326\n",
      "Fishnet Data CRS: EPSG:4326\n",
      "Number of POI points: 2214\n",
      "Number of joined records: 2214\n",
      "Processing med (深圳市_医疗服务.shp)\n",
      "POI Data CRS: EPSG:4326\n",
      "Fishnet Data CRS: EPSG:4326\n",
      "Number of POI points: 9419\n",
      "Number of joined records: 9419\n",
      "Processing res (深圳市_休闲娱乐.shp)\n",
      "POI Data CRS: EPSG:4326\n",
      "Fishnet Data CRS: EPSG:4326\n",
      "Number of POI points: 19271\n",
      "Number of joined records: 19271\n"
     ]
    }
   ],
   "source": [
    "import geopandas as gpd\n",
    "import os\n",
    "import numpy as np\n",
    "\n",
    "# Define file paths\n",
    "fishnet_path = \"./data/shp_data/fishnet_300/Fishnet_300m2.shp\"\n",
    "poi_directory = \"./data/shp_data/2021.03/\"\n",
    "poi_files = {\n",
    "    \"edu\": \"深圳市_科研教育.shp\",\n",
    "    \"pbs\": \"深圳市_居委会点.shp\",\n",
    "    \"resid\": \"深圳市_居民小区点.shp\",\n",
    "    \"comm\": \"深圳市_金融服务.shp\",\n",
    "    \"shop\": \"深圳市_购物.shp\",\n",
    "    \"work\": \"深圳市-写字楼.shp\",\n",
    "    \"govern\": \"深圳市_政府机关.shp\",\n",
    "    \"med\": \"深圳市_医疗服务.shp\",\n",
    "    \"res\": \"深圳市_休闲娱乐.shp\"\n",
    "}\n",
    "\n",
    "# Read fishnet data\n",
    "fishnet = gpd.read_file(fishnet_path)\n",
    "\n",
    "# Set CRS of fishnet data to WGS1984\n",
    "fishnet = fishnet.to_crs(epsg=4326)\n",
    "\n",
    "# Initialize statistics, add a column for each POI type\n",
    "for poi_type in poi_files.keys():\n",
    "    fishnet[poi_type] = 0\n",
    "\n",
    "# Count the number of POI points in each fishnet grid\n",
    "for poi_type, poi_file in poi_files.items():\n",
    "    poi_path = os.path.join(poi_directory, poi_file)\n",
    "    poi_gdf = gpd.read_file(poi_path)\n",
    "    poi_gdf = poi_gdf.to_crs(epsg=4326)\n",
    "\n",
    "    # Check the loaded POI data and CRS conversion\n",
    "    print(f\"Processing {poi_type} ({poi_file})\")\n",
    "    print(f\"POI Data CRS: {poi_gdf.crs}\")\n",
    "    print(f\"Fishnet Data CRS: {fishnet.crs}\")\n",
    "    print(f\"Number of POI points: {len(poi_gdf)}\")\n",
    "\n",
    "    # Spatial join to count POI points within each grid cell\n",
    "    joined = gpd.sjoin(poi_gdf, fishnet, how=\"left\", predicate=\"intersects\")\n",
    "\n",
    "    # Check the result of the spatial join\n",
    "    print(f\"Number of joined records: {len(joined)}\")\n",
    "\n",
    "    # Ensure `index_right` exists and count POI points in each grid cell\n",
    "    if 'index_right' in joined.columns:\n",
    "        counts = joined.groupby(\"index_right\").size()\n",
    "        # Update POI counts in the fishnet grid\n",
    "        fishnet.loc[counts.index, poi_type] += counts\n",
    "    else:\n",
    "        print(f\"index_right not found in the joined result for file {poi_file}\")\n",
    "\n",
    "# Function to calculate entropy for each grid cell\n",
    "def calculate_entropy(row, columns):\n",
    "    total = sum(row[columns])\n",
    "    if total == 0:\n",
    "        return 0\n",
    "    entropy = 0\n",
    "    for col in columns:\n",
    "        p_i = row[col] / total\n",
    "        if p_i > 0:\n",
    "            entropy -= p_i * np.log(p_i)\n",
    "    return entropy\n",
    "\n",
    "# Compute entropy for each grid cell based on POI diversity\n",
    "poi_columns = list(poi_files.keys())\n",
    "fishnet['entropy'] = fishnet.apply(lambda row: calculate_entropy(row, poi_columns), axis=1)\n",
    "\n",
    "# Display the results\n",
    "df_poi = fishnet[[\"geometry\"] + poi_columns + [\"entropy\"]]\n"
   ]
  },
  {
   "cell_type": "markdown",
   "id": "3617aa21-6eab-4116-b130-cb7d9455c075",
   "metadata": {},
   "source": [
    "## 1.2 bus distance culculation"
   ]
  },
  {
   "cell_type": "code",
   "execution_count": 63,
   "id": "a67c6d51-0059-47ea-9cad-6125c196d7ad",
   "metadata": {},
   "outputs": [],
   "source": [
    "df_bus = pd.read_excel('./data/shp_data/bus.xls')\n",
    "df_bus['IN_FID']=df_bus['IN_FID']-1\n",
    "df_bus = df_bus.rename(columns={'IN_FID':'ID'})\n",
    "df_poi = df_poi.reset_index().rename(columns={'index': 'ID'})\n",
    "df = pd.merge(df_bus, df_poi, on='ID', how='inner')\n",
    "columns_to_drop = [\n",
    "    'OBJECTID', 'NEAR_FID', 'geometry', 'edu', 'pbs', 'resid', 'comm', 'shop', 'work', 'govern',\n",
    "       'med', 'res'\n",
    "]\n",
    "df = df.drop(columns=columns_to_drop)"
   ]
  },
  {
   "cell_type": "markdown",
   "id": "85055053-9814-47a2-b98f-bee92320ceaa",
   "metadata": {},
   "source": [
    "## 1.3 NDVI"
   ]
  },
  {
   "cell_type": "code",
   "execution_count": 65,
   "id": "b36c80c7-243a-4aa0-8986-43804d8a291a",
   "metadata": {},
   "outputs": [
    {
     "name": "stdout",
     "output_type": "stream",
     "text": [
      "Reprojecting NDVI raster from EPSG:32649 to EPSG:32650\n"
     ]
    }
   ],
   "source": [
    "import geopandas as gpd\n",
    "import rasterio\n",
    "from rasterio.warp import calculate_default_transform, reproject, Resampling\n",
    "import rasterstats\n",
    "import numpy as np\n",
    "\n",
    "# 定义文件路径\n",
    "fishnet_path = \"./data/shp_data/fishnet_300/Fishnet_300m2.shp\"\n",
    "ndvi_tif_path = \"./data/raster_data/NDVI.tif\"\n",
    "output_ndvi_reprojected = \"./data/raster_data/NDVI_reprojected.tif\"\n",
    "\n",
    "# 读取渔网数据\n",
    "fishnet = gpd.read_file(fishnet_path)\n",
    "\n",
    "# 确保渔网数据的CRS为WGS 1984 UTM Zone 50N\n",
    "fishnet = fishnet.to_crs(epsg=32650)\n",
    "\n",
    "# 读取NDVI栅格数据并检查CRS\n",
    "with rasterio.open(ndvi_tif_path) as src:\n",
    "    src_crs = src.crs\n",
    "    if src_crs != fishnet.crs:\n",
    "        print(f\"Reprojecting NDVI raster from {src_crs} to {fishnet.crs}\")\n",
    "\n",
    "        # 计算转换参数\n",
    "        transform, width, height = calculate_default_transform(\n",
    "            src_crs, fishnet.crs, src.width, src.height, *src.bounds)\n",
    "        kwargs = src.meta.copy()\n",
    "        kwargs.update({\n",
    "            'crs': fishnet.crs,\n",
    "            'transform': transform,\n",
    "            'width': width,\n",
    "            'height': height\n",
    "        })\n",
    "\n",
    "        # 重新投影并保存为新的栅格文件\n",
    "        with rasterio.open(output_ndvi_reprojected, 'w', **kwargs) as dst:\n",
    "            for i in range(1, src.count + 1):\n",
    "                reproject(\n",
    "                    source=rasterio.band(src, i),\n",
    "                    destination=rasterio.band(dst, i),\n",
    "                    src_transform=src.transform,\n",
    "                    src_crs=src.crs,\n",
    "                    dst_transform=transform,\n",
    "                    dst_crs=fishnet.crs,\n",
    "                    resampling=Resampling.nearest)\n",
    "\n",
    "        ndvi_tif_path = output_ndvi_reprojected\n",
    "\n",
    "# 初始化结果列\n",
    "fishnet[\"NDVI_mean\"] = 0\n",
    "\n",
    "# 读取重新投影的NDVI栅格数据\n",
    "with rasterio.open(ndvi_tif_path) as src:\n",
    "    affine = src.transform\n",
    "    array = src.read(1)\n",
    "\n",
    "    # 计算渔网格中的平均值\n",
    "    stats = rasterstats.zonal_stats(fishnet, array, affine=affine, stats=['mean'], nodata=src.nodata)\n",
    "\n",
    "    # 将统计结果存入渔网数据\n",
    "    fishnet[\"NDVI_mean\"] = [stat['mean'] if stat['mean'] is not None else np.nan for stat in stats]\n",
    "df = df.merge(fishnet[['ID', 'NDVI_mean']], on='ID', how='left')"
   ]
  },
  {
   "cell_type": "code",
   "execution_count": 66,
   "id": "ddc8f257-657a-46b3-a790-2a13da82d317",
   "metadata": {},
   "outputs": [],
   "source": [
    "df_dependent = pd.read_csv('./data/variables/variables_remained.csv')\n",
    "df_dependent = pd.merge(df, df_dependent, on='ID')\n",
    "df_dependent.rename(columns={'NEAR_DIST': 'bus distance', 'entropy': 'POI diversity',\n",
    "                  'NDVI_mean':'NDVI',}, inplace=True)"
   ]
  },
  {
   "cell_type": "code",
   "execution_count": 67,
   "id": "4a209f66-e0b2-44e8-913d-907bc40e7de3",
   "metadata": {},
   "outputs": [],
   "source": [
    "df_dependent.to_csv('./data/variables/variables_constant.csv',index = False)"
   ]
  },
  {
   "cell_type": "code",
   "execution_count": null,
   "id": "e58513e6-9cbf-4242-9e06-72d91f595ee8",
   "metadata": {},
   "outputs": [],
   "source": []
  },
  {
   "cell_type": "code",
   "execution_count": null,
   "id": "256894a2-b17f-4bad-a626-e72058763f2f",
   "metadata": {},
   "outputs": [],
   "source": []
  }
 ],
 "metadata": {
  "kernelspec": {
   "display_name": "Python 3 (ipykernel)",
   "language": "python",
   "name": "python3"
  },
  "language_info": {
   "codemirror_mode": {
    "name": "ipython",
    "version": 3
   },
   "file_extension": ".py",
   "mimetype": "text/x-python",
   "name": "python",
   "nbconvert_exporter": "python",
   "pygments_lexer": "ipython3",
   "version": "3.11.9"
  }
 },
 "nbformat": 4,
 "nbformat_minor": 5
}
